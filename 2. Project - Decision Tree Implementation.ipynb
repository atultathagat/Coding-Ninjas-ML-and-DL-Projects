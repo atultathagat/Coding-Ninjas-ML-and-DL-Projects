{
 "cells": [
  {
   "cell_type": "markdown",
   "metadata": {},
   "source": [
    "## Importing the required libraries"
   ]
  },
  {
   "cell_type": "code",
   "execution_count": 1,
   "metadata": {},
   "outputs": [],
   "source": [
    "import pandas as pd\n",
    "from sklearn.model_selection import train_test_split\n",
    "import numpy as np"
   ]
  },
  {
   "cell_type": "markdown",
   "metadata": {},
   "source": [
    "## Reading the dataset as pandas dataframe and splitting it into train and test"
   ]
  },
  {
   "cell_type": "code",
   "execution_count": 2,
   "metadata": {},
   "outputs": [],
   "source": [
    "df=pd.read_csv('iris.csv') #reading the dataset\n",
    "train_df,test_df=train_test_split(df,random_state=0) #splitting the dataset into train and test"
   ]
  },
  {
   "cell_type": "markdown",
   "metadata": {},
   "source": [
    "## Checking if the data is pure or not i.e. it contains only one class"
   ]
  },
  {
   "cell_type": "code",
   "execution_count": 3,
   "metadata": {},
   "outputs": [],
   "source": [
    "def is_pure(df):\n",
    "    unique_values=len(np.unique(df.iloc[:,-1])) #finding the length of unique classes in the data\n",
    "    if unique_values==1: #if length of unique classes is 1, the data is pure and it contains only one class\n",
    "        return True\n",
    "    return False"
   ]
  },
  {
   "cell_type": "markdown",
   "metadata": {},
   "source": [
    "## Classifying the data - finding the majority class in the data (the class having maximum data points)"
   ]
  },
  {
   "cell_type": "code",
   "execution_count": 4,
   "metadata": {},
   "outputs": [],
   "source": [
    "def classify(df):\n",
    "    species,counts=np.unique(df.iloc[:,-1],return_counts=True) #finding the unique classes and their count in data\n",
    "    index=np.argmax(counts) # finding the index of the class which has maximum count\n",
    "    return species[index]  #returning the class with mamximum count"
   ]
  },
  {
   "cell_type": "markdown",
   "metadata": {},
   "source": [
    "## Finding the potential splits (the values on which we can perform split)"
   ]
  },
  {
   "cell_type": "code",
   "execution_count": 6,
   "metadata": {},
   "outputs": [],
   "source": [
    "def get_potential_splits(df):\n",
    "    potential_splits={} # this dictionary contains columns number as key and a list containing potential splits as value\n",
    "    columns=df.columns\n",
    "    for j in range(len(columns)-1):\n",
    "        column_values=np.unique(df[columns[j]].values) #finding unique values in a column j\n",
    "        potential_splits[j]=[]\n",
    "        for i in range(1,len(column_values)):\n",
    "            potential_splits[j].append((column_values[i]+column_values[i-1])/2) #finding all potential splits for column j\n",
    "    return potential_splits "
   ]
  },
  {
   "cell_type": "code",
   "execution_count": 7,
   "metadata": {},
   "outputs": [],
   "source": [
    "potential_splits=get_potential_splits(train_df) #getting potential splits"
   ]
  },
  {
   "cell_type": "markdown",
   "metadata": {},
   "source": [
    "## Splitting the data points on the basis of potential split of a particular column"
   ]
  },
  {
   "cell_type": "code",
   "execution_count": 8,
   "metadata": {},
   "outputs": [],
   "source": [
    "def split(df,split_column,split_value):\n",
    "    columns=df.columns\n",
    "    left_df=df[df[columns[split_column]]<=split_value] #getting the data points in which column values are less than or equal to split value\n",
    "    right_df=df[df[columns[split_column]]>split_value] #getting the data points in which column values are greater than split value\n",
    "    return left_df,right_df "
   ]
  },
  {
   "cell_type": "markdown",
   "metadata": {},
   "source": [
    "## Calculating entropy of data points"
   ]
  },
  {
   "cell_type": "code",
   "execution_count": 9,
   "metadata": {},
   "outputs": [],
   "source": [
    "def calculate_entropy(df):\n",
    "    counts=np.unique(df.iloc[:,-1],return_counts=True)[1] #getting counts of all the classes in the data\n",
    "    probabilities=counts/counts.sum() #finding probability of each data points\n",
    "    entropy=(-probabilities*np.log(probabilities)).sum() #calculating entropy\n",
    "    return entropy #returning entropy"
   ]
  },
  {
   "cell_type": "markdown",
   "metadata": {},
   "source": [
    "## Calculating gain ratio"
   ]
  },
  {
   "cell_type": "code",
   "execution_count": 10,
   "metadata": {},
   "outputs": [],
   "source": [
    "def calculate_gain_ratio(df,left_df,right_df):\n",
    "    entropy_left=calculate_entropy(left_df) #getting entropy of data points which are in left half\n",
    "    entropy_right=calculate_entropy(right_df) #getting entropy of data points which are in right half\n",
    "    d1=len(left_df)\n",
    "    d2=len(right_df)\n",
    "    d=d1+d2\n",
    "    entropy_before=calculate_entropy(df) #calculating data points before split\n",
    "    entropy_after=(d1/d)*entropy_left+(d2/d)*entropy_right #calculating overall entropy after split\n",
    "    info_gain=entropy_before-entropy_after #calculating information gain\n",
    "    split_info=-(d1/d)*np.log(d1/d)-d2/d*np.log(d2/d) #calculating split info\n",
    "    gain_ratio=info_gain/split_info #calculating gain ratio\n",
    "    return gain_ratio"
   ]
  },
  {
   "cell_type": "markdown",
   "metadata": {},
   "source": [
    "## Getting best split (finding the column number and split value of that column on which if data is splitted then the gain ratio is maximum)"
   ]
  },
  {
   "cell_type": "code",
   "execution_count": 11,
   "metadata": {},
   "outputs": [],
   "source": [
    "def get_best_split(df,potential_splits):\n",
    "    potential_splits=get_potential_splits(df) # getting potential splits\n",
    "    max_gain_ratio=-1 # it holds the maximum gain ratio\n",
    "    best_split_column=-1 #it holds the best column number on which gain ratio is maximum when splitted\n",
    "    best_split_value=-1 #it holds the best split value on which gain ratio is maximum when splitted\n",
    "    for column in potential_splits:\n",
    "        for split_value in potential_splits[column]:\n",
    "            left_df,right_df=split(df,column,split_value) #splitting the data points\n",
    "            gain_ratio=calculate_gain_ratio(df,left_df,right_df) #finding gain ratio for a particular split\n",
    "            if gain_ratio>max_gain_ratio: #finding the maximum gain ratio\n",
    "                max_gain_ratio=gain_ratio\n",
    "                best_split_value=split_value\n",
    "                best_split_column=column\n",
    "    return best_split_column,best_split_value,max_gain_ratio   "
   ]
  },
  {
   "cell_type": "markdown",
   "metadata": {},
   "source": [
    "## Printing the decision tree steps and building actual decision tree (getting a dictionary which contains at each level, on which feature and on which value the data should be splitted)"
   ]
  },
  {
   "cell_type": "code",
   "execution_count": 12,
   "metadata": {},
   "outputs": [],
   "source": [
    "def fit(df,potential_split,level,max_level=3):\n",
    "    if level>0:\n",
    "        print()\n",
    "    if len(df)==0:\n",
    "        return None\n",
    "    print('Level', level)\n",
    "    species,counts=np.unique(df.iloc[:,-1],return_counts=True)\n",
    "    #printing the decision tree in the required format\n",
    "    for i in range(len(species)):\n",
    "        print('Count of',species[i],'=',counts[i]) #printing unique classes in data points and its counts\n",
    "    current_entropy=calculate_entropy(df) #finding current entropy for each data points\n",
    "    print('Current Entropy is',current_entropy)\n",
    "    if is_pure(df) or level==max_level: #if data point is pure i.e. only one class is present or maximum level is reached, predicting the class based on majority votes\n",
    "        print('Reached Leaf Node')\n",
    "        return classify(df)\n",
    "    else:\n",
    "        best_split_column,best_split_value,max_gain_ratio=get_best_split(df,potential_splits) #finding the split column and split value for which gain ratio is maximum\n",
    "        feature_name=df.columns[best_split_column]\n",
    "        tree_dict={}\n",
    "        key=str(feature_name)+'  <= '+str(best_split_value)\n",
    "        tree_dict[key]=[]\n",
    "        print('Splitting on feature ',feature_name,'with gain ratio ',max_gain_ratio)\n",
    "        left_df,right_df=split(df,best_split_column,best_split_value)\n",
    "        left_dict=fit(left_df,potential_split,level+1)\n",
    "        right_dict=fit(right_df,potential_split,level+1)\n",
    "        if not left_dict is None:\n",
    "            tree_dict[key].append(left_dict)\n",
    "        if not right_dict is None:\n",
    "            tree_dict[key].append(right_dict)\n",
    "        return tree_dict    "
   ]
  },
  {
   "cell_type": "code",
   "execution_count": 13,
   "metadata": {},
   "outputs": [
    {
     "name": "stdout",
     "output_type": "stream",
     "text": [
      "Level 0\n",
      "Count of setosa = 37\n",
      "Count of versicolor = 34\n",
      "Count of virginica = 41\n",
      "Current Entropy is 1.0956714129052516\n",
      "Splitting on feature  petal_length with gain ratio  1.0\n",
      "\n",
      "Level 1\n",
      "Count of setosa = 37\n",
      "Current Entropy is 0.0\n",
      "Reached Leaf Node\n",
      "\n",
      "Level 1\n",
      "Count of versicolor = 34\n",
      "Count of virginica = 41\n",
      "Current Entropy is 0.6887852792452958\n",
      "Splitting on feature  petal_length with gain ratio  0.7064313543656207\n",
      "\n",
      "Level 2\n",
      "Count of versicolor = 33\n",
      "Count of virginica = 3\n",
      "Current Entropy is 0.2868359830561607\n",
      "Splitting on feature  petal_width with gain ratio  0.643158422044091\n",
      "\n",
      "Level 3\n",
      "Count of versicolor = 32\n",
      "Current Entropy is 0.0\n",
      "Reached Leaf Node\n",
      "\n",
      "Level 3\n",
      "Count of versicolor = 1\n",
      "Count of virginica = 3\n",
      "Current Entropy is 0.5623351446188083\n",
      "Reached Leaf Node\n",
      "\n",
      "Level 2\n",
      "Count of versicolor = 1\n",
      "Count of virginica = 38\n",
      "Current Entropy is 0.11924692639624491\n",
      "Splitting on feature  petal_length with gain ratio  0.1861963514259986\n",
      "\n",
      "Level 3\n",
      "Count of versicolor = 1\n",
      "Count of virginica = 3\n",
      "Current Entropy is 0.5623351446188083\n",
      "Reached Leaf Node\n",
      "\n",
      "Level 3\n",
      "Count of virginica = 35\n",
      "Current Entropy is 0.0\n",
      "Reached Leaf Node\n"
     ]
    }
   ],
   "source": [
    "# printing the steps of decision tree and storing the actual decision tree as a dictionary\n",
    "tree_dict=fit(train_df,potential_splits,0)"
   ]
  },
  {
   "cell_type": "code",
   "execution_count": 14,
   "metadata": {},
   "outputs": [
    {
     "data": {
      "text/plain": [
       "{'petal_length  <= 2.35': ['setosa',\n",
       "  {'petal_length  <= 4.95': [{'petal_width  <= 1.65': ['versicolor',\n",
       "      'virginica']},\n",
       "    {'petal_length  <= 5.05': ['virginica', 'virginica']}]}]}"
      ]
     },
     "execution_count": 14,
     "metadata": {},
     "output_type": "execute_result"
    }
   ],
   "source": [
    "#printing the actual decision tree\n",
    "tree_dict"
   ]
  },
  {
   "cell_type": "code",
   "execution_count": 20,
   "metadata": {},
   "outputs": [],
   "source": [
    "#predicing the class for a given single data point\n",
    "def predict_single_data_point(tree_dict,data):\n",
    "    key=list(tree_dict.keys())[0]\n",
    "    feature_name,_,value=key.split()\n",
    "    current_value=data[feature_name]\n",
    "    if current_value<=float(value):\n",
    "        residual_dict=tree_dict[key][0]\n",
    "    else:\n",
    "        residual_dict=tree_dict[key][1]\n",
    "    residual_dict    \n",
    "    if isinstance(residual_dict,dict):\n",
    "        return predict_single_data_point(residual_dict,data)\n",
    "    else:\n",
    "        return residual_dict"
   ]
  },
  {
   "cell_type": "code",
   "execution_count": 21,
   "metadata": {},
   "outputs": [],
   "source": [
    "#predicting the class for all the data points\n",
    "def predict_all_data_points(tree_dict,test_df):\n",
    "    y_pred=[]\n",
    "    for i in range(len(test_df)):\n",
    "        y_pred.append(predict_single_data_point(tree_dict,test_df.iloc[i]))\n",
    "    return y_pred    "
   ]
  },
  {
   "cell_type": "markdown",
   "metadata": {},
   "source": [
    "## Checking performance of decision tree through confusion matrix and classification report"
   ]
  },
  {
   "cell_type": "code",
   "execution_count": 32,
   "metadata": {},
   "outputs": [
    {
     "name": "stdout",
     "output_type": "stream",
     "text": [
      "[[13  0  0]\n",
      " [ 0 15  1]\n",
      " [ 0  0  9]]\n"
     ]
    },
    {
     "data": {
      "image/png": "[encoded data removed]",
      "text/plain": [
       "<Figure size 432x288 with 2 Axes>"
      ]
     },
     "metadata": {},
     "output_type": "display_data"
    }
   ],
   "source": [
    "from sklearn.metrics import confusion_matrix,accuracy_score\n",
    "import seaborn as sns\n",
    "import matplotlib.pyplot as plt\n",
    "y_pred=predict_all_data_points(tree_dict,test_df)\n",
    "y_test=test_df['species']\n",
    "cm=confusion_matrix(y_test,y_pred) #getting confusion matrix\n",
    "print(cm) #printing confusion matrix\n",
    "sns.heatmap(cm,annot=True) #plotting confusion matrix\n",
    "plt.show()"
   ]
  },
  {
   "cell_type": "code",
   "execution_count": 42,
   "metadata": {},
   "outputs": [
    {
     "name": "stdout",
     "output_type": "stream",
     "text": [
      "Accuracy of decision tree: 97.37%\n"
     ]
    }
   ],
   "source": [
    "print('Accuracy of decision tree:',\"{:.2%}\".format(accuracy_score(y_test,y_pred)))"
   ]
  },
  {
   "cell_type": "code",
   "execution_count": 31,
   "metadata": {},
   "outputs": [
    {
     "name": "stdout",
     "output_type": "stream",
     "text": [
      "              precision    recall  f1-score   support\n",
      "\n",
      "      setosa       1.00      1.00      1.00        13\n",
      "  versicolor       1.00      0.94      0.97        16\n",
      "   virginica       0.90      1.00      0.95         9\n",
      "\n",
      "    accuracy                           0.97        38\n",
      "   macro avg       0.97      0.98      0.97        38\n",
      "weighted avg       0.98      0.97      0.97        38\n",
      "\n"
     ]
    }
   ],
   "source": [
    "from sklearn.metrics import classification_report\n",
    "print(classification_report(y_test,y_pred)) #printing classification report"
   ]
  }
 ],
 "metadata": {
  "kernelspec": {
   "display_name": "Python 3",
   "language": "python",
   "name": "python3"
  },
  "language_info": {
   "codemirror_mode": {
    "name": "ipython",
    "version": 3
   },
   "file_extension": ".py",
   "mimetype": "text/x-python",
   "name": "python",
   "nbconvert_exporter": "python",
   "pygments_lexer": "ipython3",
   "version": "3.7.6"
  }
 },
 "nbformat": 4,
 "nbformat_minor": 4
}
